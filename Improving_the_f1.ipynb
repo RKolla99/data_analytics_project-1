{
 "cells": [
  {
   "cell_type": "code",
   "execution_count": 1,
   "metadata": {},
   "outputs": [],
   "source": [
    "import numpy as np \n",
    "import pandas as pd\n",
    "import matplotlib.pyplot as plt\n",
    "import seaborn as sns\n",
    "import xgboost as xgb \n",
    "from sklearn.model_selection import train_test_split\n",
    "from sklearn.metrics import accuracy_score\n",
    "from sklearn.metrics import confusion_matrix\n",
    "from sklearn.utils import resample\n",
    "from sklearn.metrics import classification_report\n",
    "from sklearn.metrics import f1_score\n",
    "from imblearn.over_sampling import SMOTE, ADASYN\n",
    "\n",
    "%matplotlib inline"
   ]
  },
  {
   "cell_type": "code",
   "execution_count": 2,
   "metadata": {},
   "outputs": [],
   "source": [
    "train_values = pd.read_csv('./dataset_modified/train_values.csv')\n",
    "train_labels = pd.read_csv('./dataset_modified/train_labels.csv')\n",
    "test_values = pd.read_csv('./dataset_modified/test_values.csv')"
   ]
  },
  {
   "cell_type": "code",
   "execution_count": null,
   "metadata": {},
   "outputs": [],
   "source": []
  },
  {
   "cell_type": "code",
   "execution_count": 39,
   "metadata": {},
   "outputs": [],
   "source": [
    "# Split dataset into training set and test set\n",
    "X_train, X_test, y_train, y_test = train_test_split(train_values, train_labels['damage_grade'], test_size=0.3, random_state=10) # 70% training and 30% test\n",
    "X_train = X_train.drop(columns = 'building_id')\n",
    "X_test  = X_test.drop (columns = 'building_id')"
   ]
  },
  {
   "cell_type": "code",
   "execution_count": 10,
   "metadata": {},
   "outputs": [],
   "source": [
    "def model(X_train, y_train, X_test):\n",
    "    # XGBoost Model\n",
    "\n",
    "    # xgboost classifier accepts classes only in the range [0, num_class)\n",
    "    y_train_xgb = y_train - 1\n",
    "    y_test_xgb = y_test - 1\n",
    "\n",
    "    # transforming data into DMatrix for it to be usable by XGBoost\n",
    "    D_train = xgb.DMatrix(X_train, label = y_train_xgb)\n",
    "    D_test = xgb.DMatrix(X_test, label = y_test_xgb)\n",
    "\n",
    "    param = {\n",
    "        'eta': 0.2,\n",
    "        'subsample': 0.7, \n",
    "        'min_child_weight': 5, \n",
    "        'max_depth': 12, \n",
    "        'gamma': 0.4, \n",
    "        'colsample_bytree': 0.7,\n",
    "        'objective': 'multi:softmax',\n",
    "        'num_class': 3\n",
    "    }\n",
    "\n",
    "    steps = 100\n",
    "\n",
    "    # training the model\n",
    "    clf = xgb.train(param, D_train, steps)\n",
    "\n",
    "    # predicting damage_grade for the test values\n",
    "    y_pred = clf.predict(D_test)\n",
    "    y_pred += 1\n",
    "    \n",
    "    return y_pred\n",
    "\n",
    "#     # XGBoost Model Accuracy\n",
    "#     print(\"Accuracy of XGBoost: \", accuracy_score(y_test,y_pred))\n",
    "#     print(classification_report(y_test, y_pred))"
   ]
  },
  {
   "cell_type": "code",
   "execution_count": 11,
   "metadata": {},
   "outputs": [],
   "source": [
    "def evaluate(y_test, y_pred):\n",
    "    # XGBoost Model Accuracy\n",
    "    print(\"Accuracy of XGBoost: \", accuracy_score(y_test,y_pred))\n",
    "    print(classification_report(y_test, y_pred))"
   ]
  },
  {
   "cell_type": "code",
   "execution_count": 29,
   "metadata": {},
   "outputs": [],
   "source": [
    "y_pred = model(X_train, y_train, X_test)"
   ]
  },
  {
   "cell_type": "code",
   "execution_count": 30,
   "metadata": {},
   "outputs": [
    {
     "name": "stdout",
     "output_type": "stream",
     "text": [
      "Accuracy of XGBoost:  0.743901971067\n",
      "              precision    recall  f1-score   support\n",
      "\n",
      "         1.0       0.51      0.68      0.59      5605\n",
      "         2.0       0.85      0.74      0.79     50799\n",
      "         3.0       0.63      0.76      0.69     21777\n",
      "\n",
      "    accuracy                           0.74     78181\n",
      "   macro avg       0.66      0.73      0.69     78181\n",
      "weighted avg       0.76      0.74      0.75     78181\n",
      "\n"
     ]
    }
   ],
   "source": [
    "evaluate(y_pred, y_test)"
   ]
  },
  {
   "cell_type": "markdown",
   "metadata": {},
   "source": [
    "## Log transformation"
   ]
  },
  {
   "cell_type": "code",
   "execution_count": 22,
   "metadata": {},
   "outputs": [
    {
     "name": "stderr",
     "output_type": "stream",
     "text": [
      "/home/aishwarya/.local/lib/python3.6/site-packages/pandas/core/series.py:853: RuntimeWarning: invalid value encountered in log\n",
      "  result = getattr(ufunc, method)(*inputs, **kwargs)\n"
     ]
    }
   ],
   "source": [
    "X_train['age'] = np.log(X_train['age'])\n",
    "X_test['age'] = np.log(X_test['age'])"
   ]
  },
  {
   "cell_type": "code",
   "execution_count": 23,
   "metadata": {},
   "outputs": [],
   "source": [
    "y_pred = model(X_train, y_train, X_test)"
   ]
  },
  {
   "cell_type": "code",
   "execution_count": 24,
   "metadata": {},
   "outputs": [
    {
     "name": "stdout",
     "output_type": "stream",
     "text": [
      "Accuracy of XGBoost:  0.727683196685\n",
      "              precision    recall  f1-score   support\n",
      "\n",
      "         1.0       0.43      0.66      0.52      4932\n",
      "         2.0       0.85      0.72      0.78     52155\n",
      "         3.0       0.60      0.75      0.67     21094\n",
      "\n",
      "    accuracy                           0.73     78181\n",
      "   macro avg       0.63      0.71      0.66     78181\n",
      "weighted avg       0.76      0.73      0.74     78181\n",
      "\n"
     ]
    }
   ],
   "source": [
    "evaluate(y_pred, y_test)"
   ]
  },
  {
   "cell_type": "markdown",
   "metadata": {},
   "source": [
    "## Without dropping building_id"
   ]
  },
  {
   "cell_type": "code",
   "execution_count": 25,
   "metadata": {},
   "outputs": [],
   "source": [
    "X_train, X_test, y_train, y_test = train_test_split(train_values, train_labels['damage_grade'], test_size=0.3, random_state=10) # 70% training and 30% test"
   ]
  },
  {
   "cell_type": "code",
   "execution_count": 26,
   "metadata": {},
   "outputs": [],
   "source": [
    "y_pred = model(X_train, y_train, X_test)"
   ]
  },
  {
   "cell_type": "code",
   "execution_count": 27,
   "metadata": {},
   "outputs": [
    {
     "name": "stdout",
     "output_type": "stream",
     "text": [
      "Accuracy of XGBoost:  0.742136836316\n",
      "              precision    recall  f1-score   support\n",
      "\n",
      "         1.0       0.50      0.69      0.58      5474\n",
      "         2.0       0.85      0.74      0.79     51227\n",
      "         3.0       0.62      0.76      0.69     21480\n",
      "\n",
      "    accuracy                           0.74     78181\n",
      "   macro avg       0.66      0.73      0.69     78181\n",
      "weighted avg       0.77      0.74      0.75     78181\n",
      "\n"
     ]
    }
   ],
   "source": [
    "evaluate(y_pred, y_test)"
   ]
  },
  {
   "cell_type": "markdown",
   "metadata": {},
   "source": [
    "## Dropping socio-economic related columns (F1 score = 0.7455)"
   ]
  },
  {
   "cell_type": "code",
   "execution_count": 51,
   "metadata": {},
   "outputs": [],
   "source": [
    "X_train = train_values\n",
    "X_test = test_values\n",
    "y_train = train_labels['damage_grade']"
   ]
  },
  {
   "cell_type": "code",
   "execution_count": 52,
   "metadata": {},
   "outputs": [],
   "source": [
    "X_train = X_train.drop(['building_id','has_secondary_use_agriculture', 'has_secondary_use_hotel',\n",
    "       'has_secondary_use_rental', 'has_secondary_use_institution',\n",
    "       'has_secondary_use_school', 'has_secondary_use_industry',\n",
    "       'has_secondary_use_health_post', 'has_secondary_use_gov_office',\n",
    "       'has_secondary_use_use_police', 'has_secondary_use_other'], axis=1)\n",
    "X_test = X_test.drop(['building_id','has_secondary_use_agriculture', 'has_secondary_use_hotel',\n",
    "       'has_secondary_use_rental', 'has_secondary_use_institution',\n",
    "       'has_secondary_use_school', 'has_secondary_use_industry',\n",
    "       'has_secondary_use_health_post', 'has_secondary_use_gov_office',\n",
    "       'has_secondary_use_use_police', 'has_secondary_use_other'], axis=1)"
   ]
  },
  {
   "cell_type": "code",
   "execution_count": 46,
   "metadata": {},
   "outputs": [],
   "source": [
    "y_pred = model(X_train, y_train, X_test)"
   ]
  },
  {
   "cell_type": "code",
   "execution_count": 47,
   "metadata": {},
   "outputs": [],
   "source": [
    "result = pd.read_csv('./dataset/submission_format.csv')"
   ]
  },
  {
   "cell_type": "code",
   "execution_count": 48,
   "metadata": {},
   "outputs": [],
   "source": [
    "result['damage_grade'] = y_pred"
   ]
  },
  {
   "cell_type": "code",
   "execution_count": 49,
   "metadata": {},
   "outputs": [],
   "source": [
    "result['damage_grade'] = result['damage_grade'].astype(int)"
   ]
  },
  {
   "cell_type": "code",
   "execution_count": 50,
   "metadata": {},
   "outputs": [],
   "source": [
    "result.to_csv('file4.csv', index=False)\n",
    "\n",
    "#Resulting Macro F1 Score = 0.7455"
   ]
  },
  {
   "cell_type": "code",
   "execution_count": 59,
   "metadata": {},
   "outputs": [],
   "source": [
    "X_train = train_values\n",
    "X_test = test_values\n",
    "y_train = train_labels['damage_grade']"
   ]
  },
  {
   "cell_type": "code",
   "execution_count": 60,
   "metadata": {},
   "outputs": [],
   "source": [
    "X_train = X_train.drop(['building_id','has_secondary_use_agriculture', 'has_secondary_use_hotel',\n",
    "       'has_secondary_use_rental', 'has_secondary_use_institution',\n",
    "       'has_secondary_use_school', 'has_secondary_use_industry',\n",
    "       'has_secondary_use_health_post', 'has_secondary_use_gov_office',\n",
    "       'has_secondary_use_use_police', 'has_secondary_use_other', 'count_families', 'has_secondary_use'], axis=1)\n",
    "X_test = X_test.drop(['building_id','has_secondary_use_agriculture', 'has_secondary_use_hotel',\n",
    "       'has_secondary_use_rental', 'has_secondary_use_institution',\n",
    "       'has_secondary_use_school', 'has_secondary_use_industry',\n",
    "       'has_secondary_use_health_post', 'has_secondary_use_gov_office',\n",
    "       'has_secondary_use_use_police', 'has_secondary_use_other', 'count_families', 'has_secondary_use'], axis=1)"
   ]
  },
  {
   "cell_type": "code",
   "execution_count": 61,
   "metadata": {},
   "outputs": [],
   "source": [
    "y_pred = model(X_train, y_train, X_test)"
   ]
  },
  {
   "cell_type": "code",
   "execution_count": 62,
   "metadata": {},
   "outputs": [],
   "source": [
    "result = pd.read_csv('./dataset/submission_format.csv')\n",
    "result['damage_grade'] = y_pred\n",
    "result['damage_grade'] = result['damage_grade'].astype(int)\n",
    "result.to_csv('file5.csv', index=False)"
   ]
  },
  {
   "cell_type": "code",
   "execution_count": 63,
   "metadata": {},
   "outputs": [],
   "source": [
    "## Resulting F1 score = 0.7444"
   ]
  },
  {
   "cell_type": "markdown",
   "metadata": {},
   "source": [
    "## Normalizing the numeric columns"
   ]
  },
  {
   "cell_type": "markdown",
   "metadata": {},
   "source": []
  }
 ],
 "metadata": {
  "kernelspec": {
   "display_name": "Python 3",
   "language": "python",
   "name": "python3"
  },
  "language_info": {
   "codemirror_mode": {
    "name": "ipython",
    "version": 3
   },
   "file_extension": ".py",
   "mimetype": "text/x-python",
   "name": "python",
   "nbconvert_exporter": "python",
   "pygments_lexer": "ipython3",
   "version": "3.6.8"
  }
 },
 "nbformat": 4,
 "nbformat_minor": 2
}
