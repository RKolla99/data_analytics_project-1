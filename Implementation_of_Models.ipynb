{
 "cells": [
  {
   "cell_type": "markdown",
   "metadata": {},
   "source": [
    "## Importing Libraries"
   ]
  },
  {
   "cell_type": "code",
   "execution_count": 1,
   "metadata": {},
   "outputs": [],
   "source": [
    "import numpy as np \n",
    "import pandas as pd\n",
    "import matplotlib.pyplot as plt\n",
    "import seaborn as sns\n",
    "import xgboost as xgb \n",
    "from sklearn.model_selection import train_test_split\n",
    "from sklearn.metrics import accuracy_score\n",
    "from sklearn.metrics import confusion_matrix\n",
    "\n",
    "%matplotlib inline"
   ]
  },
  {
   "cell_type": "markdown",
   "metadata": {},
   "source": [
    "## Importing the modified dataset"
   ]
  },
  {
   "cell_type": "code",
   "execution_count": 2,
   "metadata": {},
   "outputs": [],
   "source": [
    "train_values = pd.read_csv('./dataset_modified/train_values.csv')\n",
    "train_labels = pd.read_csv('./dataset_modified/train_labels.csv')\n",
    "test_values = pd.read_csv('./dataset_modified/test_values.csv')\n"
   ]
  },
  {
   "cell_type": "markdown",
   "metadata": {},
   "source": [
    "## Implementing Models\n",
    "1) XGBoost"
   ]
  },
  {
   "cell_type": "code",
   "execution_count": 3,
   "metadata": {},
   "outputs": [],
   "source": [
    "# Split dataset into training set and test set\n",
    "X_train, X_test, y_train, y_test = train_test_split(train_values, train_labels['damage_grade'], test_size=0.3) # 70% training and 30% test\n",
    "X_train = X_train.drop(columns = 'building_id')\n",
    "X_test  = X_test.drop (columns = 'building_id')"
   ]
  },
  {
   "cell_type": "code",
   "execution_count": 4,
   "metadata": {},
   "outputs": [],
   "source": [
    "def print_confusion_matrix(y_train, y_pred):\n",
    "    cm = confusion_matrix(y_train, y_pred)\n",
    "    df_cm = pd.DataFrame(cm, range(3), range(3))\n",
    "    df_cm = pd.DataFrame(cm, columns=np.unique(y_train), index = np.unique(y_train))\n",
    "    df_cm.index.name = 'Actual'\n",
    "    df_cm.columns.name = 'Predicted'\n",
    "    plt.figure(figsize = (10,7))\n",
    "    sns.set(font_scale=1.4)#for label size\n",
    "    ax = sns.heatmap(df_cm, cmap=\"Blues\", annot=True,annot_kws={\"size\": 16})# font size\n",
    "    ax.get_ylim()\n",
    "    ax.set_ylim(3.0, 0)"
   ]
  },
  {
   "cell_type": "code",
   "execution_count": 5,
   "metadata": {},
   "outputs": [],
   "source": [
    "# # THE FOLLOWING CODE IS COMMENTED OUT AS IT TAKES A VERY LONG TO EXECUTE ....\n",
    "\n",
    "# # The following code does a Random Search on the hyperparameters of the XGBoost Model to optimise the model\n",
    "\n",
    "\n",
    "# from sklearn.model_selection import RandomizedSearchCV\n",
    "\n",
    "# params={\n",
    "#  \"learning_rate\"    : [ 0.05, 0.10, 0.15, 0.20, 0.25, 0.30] ,\n",
    "#  \"max_depth\"        : [ 5, 6, 8, 9, 10, 12],\n",
    "#  \"min_child_weight\" : [ 0, 1, 2, 3.5, 5 ],\n",
    "#  \"gamma\"            : [ 0.0, 0.1, 0.25, 0.3, 0.4],\n",
    "#  \"colsample_bytree\" : [ 0.7, 0.75, 0.8, 0.85],\n",
    "#  \"subsample\"        : [ 0.6, 0.7, 0.75, 0.8, 0.85, 0.9],\n",
    "#  \"n_estimators\"     : [ 50, 80, 100]\n",
    "    \n",
    "# }\n",
    "\n",
    "# classifier = xgb.XGBClassifier(objective = 'multi:softmax')\n",
    "\n",
    "# random_search = RandomizedSearchCV(classifier, param_distributions=params, n_iter=5, n_jobs=-1, cv=5, verbose=3)\n",
    "# random_search.fit(X_train,y_train)\n",
    "\n",
    "# # The above code returns the following output of parameters which can further be used for the XGBoost Model\n",
    "\n",
    "# # {\n",
    "# #     'subsample': 0.7, \n",
    "# #     'min_child_weight': 5, \n",
    "# #     'max_depth': 12, \n",
    "# #     'learning_rate': 0.2, # 'eta' in the model below\n",
    "# #     'gamma': 0.4, \n",
    "# #     'colsample_bytree': 0.7\n",
    "# # }\n"
   ]
  },
  {
   "cell_type": "code",
   "execution_count": 6,
   "metadata": {},
   "outputs": [
    {
     "name": "stderr",
     "output_type": "stream",
     "text": [
      "/home/rithvik/.local/lib/python3.5/site-packages/xgboost/core.py:587: FutureWarning: Series.base is deprecated and will be removed in a future version\n",
      "  if getattr(data, 'base', None) is not None and \\\n"
     ]
    },
    {
     "name": "stdout",
     "output_type": "stream",
     "text": [
      "Accuracy of XGBoost:  0.7426100970824113\n"
     ]
    }
   ],
   "source": [
    "# XGBoost Model\n",
    "\n",
    "# xgboost classifier accepts classes only in the range [0, num_class)\n",
    "y_train_xgb = y_train - 1\n",
    "y_test_xgb = y_test - 1\n",
    "\n",
    "# transforming data into DMatrix for it to be usable by XGBoost\n",
    "D_train = xgb.DMatrix(X_train, label = y_train_xgb)\n",
    "D_test = xgb.DMatrix(X_test, label = y_test_xgb)\n",
    "\n",
    "param = {\n",
    "    'eta': 0.2,\n",
    "    'subsample': 0.7, \n",
    "    'min_child_weight': 5, \n",
    "    'max_depth': 12, \n",
    "    'gamma': 0.4, \n",
    "    'colsample_bytree': 0.7,\n",
    "    'objective': 'multi:softmax',\n",
    "    'num_class': 3\n",
    "}\n",
    "\n",
    "steps = 100\n",
    "\n",
    "# training the model\n",
    "clf = xgb.train(param, D_train, steps)\n",
    "\n",
    "# predicting damage_grade for the test values\n",
    "y_pred = clf.predict(D_test)\n",
    "y_pred += 1\n",
    "\n",
    "# XGBoost Model Accuracy\n",
    "print(\"Accuracy of XGBoost: \", accuracy_score(y_test,y_pred))"
   ]
  },
  {
   "cell_type": "code",
   "execution_count": 7,
   "metadata": {},
   "outputs": [
    {
     "data": {
      "image/png": "[encoded data removed]",
      "text/plain": [
       "<Figure size 720x504 with 2 Axes>"
      ]
     },
     "metadata": {
      "needs_background": "light"
     },
     "output_type": "display_data"
    }
   ],
   "source": [
    "print_confusion_matrix(y_test, y_pred)"
   ]
  },
  {
   "cell_type": "code",
   "execution_count": null,
   "metadata": {},
   "outputs": [],
   "source": []
  }
 ],
 "metadata": {
  "kernelspec": {
   "display_name": "Python 3",
   "language": "python",
   "name": "python3"
  },
  "language_info": {
   "codemirror_mode": {
    "name": "ipython",
    "version": 3
   },
   "file_extension": ".py",
   "mimetype": "text/x-python",
   "name": "python",
   "nbconvert_exporter": "python",
   "pygments_lexer": "ipython3",
   "version": "3.5.2"
  }
 },
 "nbformat": 4,
 "nbformat_minor": 2
}
