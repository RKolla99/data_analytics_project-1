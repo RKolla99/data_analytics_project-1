{
 "cells": [
  {
   "cell_type": "markdown",
   "metadata": {},
   "source": [
    "## Importing Libraries"
   ]
  },
  {
   "cell_type": "code",
   "execution_count": 1,
   "metadata": {},
   "outputs": [],
   "source": [
    "import numpy as np \n",
    "import pandas as pd\n",
    "import matplotlib.pyplot as plt\n",
    "import seaborn as sns\n",
    "import xgboost as xgb \n",
    "from sklearn.model_selection import train_test_split\n",
    "from sklearn.metrics import accuracy_score\n",
    "from sklearn.metrics import confusion_matrix\n",
    "from sklearn.utils import resample\n",
    "from sklearn.metrics import classification_report\n",
    "from sklearn.metrics import f1_score\n",
    "from imblearn.over_sampling import SMOTE, ADASYN\n",
    "\n",
    "%matplotlib inline"
   ]
  },
  {
   "cell_type": "markdown",
   "metadata": {},
   "source": [
    "## Importing the modified dataset"
   ]
  },
  {
   "cell_type": "code",
   "execution_count": 2,
   "metadata": {},
   "outputs": [],
   "source": [
    "train_values = pd.read_csv('./dataset_modified/train_values.csv')\n",
    "train_labels = pd.read_csv('./dataset_modified/train_labels.csv')\n",
    "test_values = pd.read_csv('./dataset_modified/test_values.csv')\n"
   ]
  },
  {
   "cell_type": "markdown",
   "metadata": {},
   "source": [
    "## Implementing Models\n",
    "1) XGBoost"
   ]
  },
  {
   "cell_type": "code",
   "execution_count": 3,
   "metadata": {},
   "outputs": [],
   "source": [
    "# Split dataset into training set and test set\n",
    "X_train, X_test, y_train, y_test = train_test_split(train_values, train_labels['damage_grade'], test_size=0.3, random_state=10) # 70% training and 30% test\n",
    "X_train = X_train.drop(columns = 'building_id')\n",
    "X_test  = X_test.drop (columns = 'building_id')"
   ]
  },
  {
   "cell_type": "code",
   "execution_count": 4,
   "metadata": {},
   "outputs": [],
   "source": [
    "def print_confusion_matrix(y_train, y_pred):\n",
    "    cm = confusion_matrix(y_train, y_pred)\n",
    "    df_cm = pd.DataFrame(cm, range(3), range(3))\n",
    "    df_cm = pd.DataFrame(cm, columns=np.unique(y_train), index = np.unique(y_train))\n",
    "    df_cm.index.name = 'Actual'\n",
    "    df_cm.columns.name = 'Predicted'\n",
    "    plt.figure(figsize = (10,7))\n",
    "    sns.set(font_scale=1.4)#for label size\n",
    "    ax = sns.heatmap(df_cm, cmap=\"Blues\", annot=True,annot_kws={\"size\": 16})# font size\n",
    "    ax.get_ylim()\n",
    "    ax.set_ylim(3.0, 0)"
   ]
  },
  {
   "cell_type": "code",
   "execution_count": 5,
   "metadata": {},
   "outputs": [],
   "source": [
    "# # THE FOLLOWING CODE IS COMMENTED OUT AS IT TAKES A VERY LONG TO EXECUTE ....\n",
    "\n",
    "# # The following code does a Random Search on the hyperparameters of the XGBoost Model to optimise the model\n",
    "\n",
    "\n",
    "# from sklearn.model_selection import RandomizedSearchCV\n",
    "\n",
    "# params={\n",
    "#  \"learning_rate\"    : [ 0.05, 0.10, 0.15, 0.20, 0.25, 0.30] ,\n",
    "#  \"max_depth\"        : [ 5, 6, 8, 9, 10, 12],\n",
    "#  \"min_child_weight\" : [ 0, 1, 2, 3.5, 5 ],\n",
    "#  \"gamma\"            : [ 0.0, 0.1, 0.25, 0.3, 0.4],\n",
    "#  \"colsample_bytree\" : [ 0.7, 0.75, 0.8, 0.85],\n",
    "#  \"subsample\"        : [ 0.6, 0.7, 0.75, 0.8, 0.85, 0.9],\n",
    "#  \"n_estimators\"     : [ 50, 80, 100]\n",
    "    \n",
    "# }\n",
    "\n",
    "# classifier = xgb.XGBClassifier(objective = 'multi:softmax')\n",
    "\n",
    "# random_search = RandomizedSearchCV(classifier, param_distributions=params, n_iter=5, n_jobs=-1, cv=5, verbose=3)\n",
    "# random_search.fit(X_train,y_train)\n",
    "\n",
    "# # The above code returns the following output of parameters which can further be used for the XGBoost Model\n",
    "\n",
    "# # {\n",
    "# #     'subsample': 0.7, \n",
    "# #     'min_child_weight': 5, \n",
    "# #     'max_depth': 12, \n",
    "# #     'learning_rate': 0.2, # 'eta' in the model below\n",
    "# #     'gamma': 0.4, \n",
    "# #     'colsample_bytree': 0.7\n",
    "# # }\n"
   ]
  },
  {
   "cell_type": "code",
   "execution_count": 6,
   "metadata": {},
   "outputs": [
    {
     "name": "stderr",
     "output_type": "stream",
     "text": [
      "/home/rithvik/.local/lib/python3.5/site-packages/xgboost/core.py:587: FutureWarning: Series.base is deprecated and will be removed in a future version\n",
      "  if getattr(data, 'base', None) is not None and \\\n"
     ]
    },
    {
     "name": "stdout",
     "output_type": "stream",
     "text": [
      "Accuracy of XGBoost:  0.7439019710671391\n",
      "              precision    recall  f1-score   support\n",
      "\n",
      "           1       0.68      0.51      0.59      7481\n",
      "           2       0.74      0.85      0.79     44440\n",
      "           3       0.76      0.63      0.69     26260\n",
      "\n",
      "    accuracy                           0.74     78181\n",
      "   macro avg       0.73      0.66      0.69     78181\n",
      "weighted avg       0.74      0.74      0.74     78181\n",
      "\n",
      "0.7439019710671391\n"
     ]
    }
   ],
   "source": [
    "# XGBoost Model\n",
    "\n",
    "# xgboost classifier accepts classes only in the range [0, num_class)\n",
    "y_train_xgb = y_train - 1\n",
    "y_test_xgb = y_test - 1\n",
    "\n",
    "# transforming data into DMatrix for it to be usable by XGBoost\n",
    "D_train = xgb.DMatrix(X_train, label = y_train_xgb)\n",
    "D_test = xgb.DMatrix(X_test, label = y_test_xgb)\n",
    "\n",
    "param = {\n",
    "    'eta': 0.2,\n",
    "    'subsample': 0.7, \n",
    "    'min_child_weight': 5, \n",
    "    'max_depth': 12, \n",
    "    'gamma': 0.4, \n",
    "    'colsample_bytree': 0.7,\n",
    "    'objective': 'multi:softmax',\n",
    "    'num_class': 3\n",
    "}\n",
    "\n",
    "steps = 100\n",
    "\n",
    "# training the model\n",
    "clf = xgb.train(param, D_train, steps)\n",
    "\n",
    "# predicting damage_grade for the test values\n",
    "y_pred = clf.predict(D_test)\n",
    "y_pred += 1\n",
    "\n",
    "# XGBoost Model Accuracy\n",
    "print(\"Accuracy of XGBoost: \", accuracy_score(y_test,y_pred))\n",
    "print(classification_report(y_test, y_pred))"
   ]
  },
  {
   "cell_type": "code",
   "execution_count": 7,
   "metadata": {
    "scrolled": false
   },
   "outputs": [
    {
     "data": {
      "image/png": "[encoded data removed]",
      "text/plain": [
       "<Figure size 720x504 with 2 Axes>"
      ]
     },
     "metadata": {
      "needs_background": "light"
     },
     "output_type": "display_data"
    }
   ],
   "source": [
    "print_confusion_matrix(y_test, y_pred)"
   ]
  },
  {
   "cell_type": "markdown",
   "metadata": {},
   "source": [
    "## Undersampling the majority class"
   ]
  },
  {
   "cell_type": "code",
   "execution_count": 8,
   "metadata": {},
   "outputs": [],
   "source": [
    "# Split dataset into training set and test set\n",
    "X_train, X_test, y_train, y_test = train_test_split(train_values, train_labels['damage_grade'], test_size=0.3, random_state=10) # 70% training and 30% test\n",
    "X_train = X_train.drop(columns = 'building_id')\n",
    "X_test  = X_test.drop (columns = 'building_id')\n",
    "\n",
    "X = pd.concat([X_train, y_train], axis=1)\n",
    "\n",
    "damage1 = X[X.damage_grade == 1]\n",
    "damage2 = X[X.damage_grade == 2]\n",
    "damage3 = X[X.damage_grade == 3]\n",
    "\n",
    "undersampled = resample(damage2,\n",
    "                        replace = False,\n",
    "                        n_samples = len(damage3),\n",
    "                        random_state = 25)\n",
    "\n",
    "X = pd.concat([damage1, undersampled, damage3])\n",
    "\n",
    "X_train = X.drop(['damage_grade'], axis=1)\n",
    "y_train = X.damage_grade"
   ]
  },
  {
   "cell_type": "code",
   "execution_count": 10,
   "metadata": {},
   "outputs": [
    {
     "name": "stdout",
     "output_type": "stream",
     "text": [
      "Accuracy of XGBoost:  0.7253296836827362\n",
      "              precision    recall  f1-score   support\n",
      "\n",
      "           1       0.61      0.63      0.62      7481\n",
      "           2       0.79      0.73      0.75     44440\n",
      "           3       0.67      0.75      0.71     26260\n",
      "\n",
      "    accuracy                           0.73     78181\n",
      "   macro avg       0.69      0.70      0.69     78181\n",
      "weighted avg       0.73      0.73      0.73     78181\n",
      "\n"
     ]
    }
   ],
   "source": [
    "# XGBoost Model\n",
    "\n",
    "# xgboost classifier accepts classes only in the range [0, num_class)\n",
    "y_train_xgb = y_train - 1\n",
    "y_test_xgb = y_test - 1\n",
    "\n",
    "# transforming data into DMatrix for it to be usable by XGBoost\n",
    "D_train = xgb.DMatrix(X_train, label = y_train_xgb)\n",
    "D_test = xgb.DMatrix(X_test, label = y_test_xgb)\n",
    "\n",
    "param = {\n",
    "    'eta': 0.2,\n",
    "    'subsample': 0.7, \n",
    "    'min_child_weight': 5, \n",
    "    'max_depth': 12, \n",
    "    'gamma': 0.4, \n",
    "    'colsample_bytree': 0.7,\n",
    "    'objective': 'multi:softmax',\n",
    "    'num_class': 3\n",
    "}\n",
    "\n",
    "steps = 100\n",
    "\n",
    "# training the model\n",
    "clf = xgb.train(param, D_train, steps)\n",
    "\n",
    "# predicting damage_grade for the test values\n",
    "y_pred = clf.predict(D_test)\n",
    "y_pred += 1\n",
    "\n",
    "# XGBoost Model Accuracy\n",
    "print(\"Accuracy of XGBoost: \", accuracy_score(y_test,y_pred))\n",
    "print(classification_report(y_test, y_pred))"
   ]
  },
  {
   "cell_type": "markdown",
   "metadata": {},
   "source": [
    "## Oversampling the minority classes"
   ]
  },
  {
   "cell_type": "code",
   "execution_count": 11,
   "metadata": {},
   "outputs": [],
   "source": [
    "# Split dataset into training set and test set\n",
    "X_train, X_test, y_train, y_test = train_test_split(train_values, train_labels['damage_grade'], test_size=0.3, random_state=10) # 70% training and 30% test\n",
    "X_train = X_train.drop(columns = 'building_id')\n",
    "X_test  = X_test.drop (columns = 'building_id')\n",
    "\n",
    "X = pd.concat([X_train, y_train], axis=1)\n",
    "\n",
    "damage1 = X[X.damage_grade == 1]\n",
    "damage2 = X[X.damage_grade == 2]\n",
    "damage3 = X[X.damage_grade == 3]\n",
    "\n",
    "oversampled1 = resample(damage1,\n",
    "                        replace = True,\n",
    "                        n_samples = len(damage2),\n",
    "                        random_state = 25)\n",
    "\n",
    "oversampled3 = resample(damage3,\n",
    "                        replace = True,\n",
    "                        n_samples = len(damage2),\n",
    "                        random_state = 25)\n",
    "\n",
    "X = pd.concat([oversampled1, damage2, oversampled3])\n",
    "\n",
    "X_train = X.drop(['damage_grade'], axis=1)\n",
    "y_train = X.damage_grade"
   ]
  },
  {
   "cell_type": "code",
   "execution_count": 12,
   "metadata": {},
   "outputs": [
    {
     "name": "stderr",
     "output_type": "stream",
     "text": [
      "/home/rithvik/.local/lib/python3.5/site-packages/xgboost/core.py:587: FutureWarning: Series.base is deprecated and will be removed in a future version\n",
      "  if getattr(data, 'base', None) is not None and \\\n"
     ]
    },
    {
     "name": "stdout",
     "output_type": "stream",
     "text": [
      "Accuracy of XGBoost:  0.7133830470318876\n",
      "              precision    recall  f1-score   support\n",
      "\n",
      "           1       0.50      0.78      0.61      7481\n",
      "           2       0.79      0.70      0.74     44440\n",
      "           3       0.69      0.72      0.71     26260\n",
      "\n",
      "    accuracy                           0.71     78181\n",
      "   macro avg       0.66      0.73      0.69     78181\n",
      "weighted avg       0.73      0.71      0.72     78181\n",
      "\n"
     ]
    }
   ],
   "source": [
    "# XGBoost Model\n",
    "\n",
    "# xgboost classifier accepts classes only in the range [0, num_class)\n",
    "y_train_xgb = y_train - 1\n",
    "y_test_xgb = y_test - 1\n",
    "\n",
    "# transforming data into DMatrix for it to be usable by XGBoost\n",
    "D_train = xgb.DMatrix(X_train, label = y_train_xgb)\n",
    "D_test = xgb.DMatrix(X_test, label = y_test_xgb)\n",
    "\n",
    "param = {\n",
    "    'eta': 0.2,\n",
    "    'subsample': 0.7, \n",
    "    'min_child_weight': 5, \n",
    "    'max_depth': 12, \n",
    "    'gamma': 0.4, \n",
    "    'colsample_bytree': 0.7,\n",
    "    'objective': 'multi:softmax',\n",
    "    'num_class': 3\n",
    "}\n",
    "\n",
    "steps = 100\n",
    "\n",
    "# training the model\n",
    "clf = xgb.train(param, D_train, steps)\n",
    "\n",
    "# predicting damage_grade for the test values\n",
    "y_pred = clf.predict(D_test)\n",
    "y_pred += 1\n",
    "\n",
    "# XGBoost Model Accuracy\n",
    "print(\"Accuracy of XGBoost: \", accuracy_score(y_test,y_pred))\n",
    "print(classification_report(y_test, y_pred))"
   ]
  },
  {
   "cell_type": "markdown",
   "metadata": {},
   "source": [
    "## SMOTE"
   ]
  },
  {
   "cell_type": "code",
   "execution_count": 31,
   "metadata": {},
   "outputs": [],
   "source": [
    "# Split dataset into training set and test set\n",
    "X_train, X_test, y_train, y_test = train_test_split(train_values, train_labels['damage_grade'], test_size=0.3, random_state=10) # 70% training and 30% test\n",
    "X_train = X_train.drop(columns = 'building_id')\n",
    "X_test  = X_test.drop (columns = 'building_id')\n",
    "\n",
    "smt = SMOTE()\n",
    "X_train1, y_train1 = smt.fit_sample(X_train, y_train)\n",
    "X_train = pd.DataFrame(X_train1, columns = X_train.columns)\n",
    "y_train = pd.Series(y_train1)"
   ]
  },
  {
   "cell_type": "code",
   "execution_count": 32,
   "metadata": {
    "scrolled": true
   },
   "outputs": [
    {
     "name": "stderr",
     "output_type": "stream",
     "text": [
      "/home/rithvik/.local/lib/python3.5/site-packages/xgboost/core.py:587: FutureWarning: Series.base is deprecated and will be removed in a future version\n",
      "  if getattr(data, 'base', None) is not None and \\\n"
     ]
    },
    {
     "name": "stdout",
     "output_type": "stream",
     "text": [
      "Accuracy of XGBoost:  0.7321216152262059\n",
      "              precision    recall  f1-score   support\n",
      "\n",
      "           1       0.59      0.63      0.61      7481\n",
      "           2       0.76      0.78      0.77     44440\n",
      "           3       0.72      0.68      0.70     26260\n",
      "\n",
      "    accuracy                           0.73     78181\n",
      "   macro avg       0.69      0.70      0.69     78181\n",
      "weighted avg       0.73      0.73      0.73     78181\n",
      "\n"
     ]
    }
   ],
   "source": [
    "# XGBoost Model\n",
    "\n",
    "# xgboost classifier accepts classes only in the range [0, num_class)\n",
    "y_train_xgb = y_train - 1\n",
    "y_test_xgb = y_test - 1\n",
    "\n",
    "# transforming data into DMatrix for it to be usable by XGBoost\n",
    "D_train = xgb.DMatrix(X_train, label = y_train_xgb)\n",
    "D_test = xgb.DMatrix(X_test, label = y_test_xgb)\n",
    "\n",
    "param = {\n",
    "    'eta': 0.2,\n",
    "    'subsample': 0.7, \n",
    "    'min_child_weight': 5, \n",
    "    'max_depth': 12, \n",
    "    'gamma': 0.4, \n",
    "    'colsample_bytree': 0.7,\n",
    "    'objective': 'multi:softmax',\n",
    "    'num_class': 3\n",
    "}\n",
    "\n",
    "steps = 100\n",
    "\n",
    "# training the model\n",
    "clf = xgb.train(param, D_train, steps)\n",
    "\n",
    "# predicting damage_grade for the test values\n",
    "y_pred = clf.predict(D_test)\n",
    "y_pred += 1\n",
    "\n",
    "# XGBoost Model Accuracy\n",
    "print(\"Accuracy of XGBoost: \", accuracy_score(y_test,y_pred))\n",
    "print(classification_report(y_test, y_pred))"
   ]
  },
  {
   "cell_type": "markdown",
   "metadata": {},
   "source": [
    "## ADASYN"
   ]
  },
  {
   "cell_type": "code",
   "execution_count": 34,
   "metadata": {},
   "outputs": [],
   "source": [
    "from imblearn.over_sampling import ADASYN\n",
    "\n",
    "# Split dataset into training set and test set\n",
    "X_train, X_test, y_train, y_test = train_test_split(train_values, train_labels['damage_grade'], test_size=0.3, random_state=10) # 70% training and 30% test\n",
    "X_train = X_train.drop(columns = 'building_id')\n",
    "X_test  = X_test.drop (columns = 'building_id')\n",
    "\n",
    "asyn = ADASYN()\n",
    "X_train1, y_train1 = asyn.fit_sample(X_train, y_train)\n",
    "X_train = pd.DataFrame(X_train1, columns = X_train.columns)\n",
    "y_train = pd.Series(y_train1)"
   ]
  },
  {
   "cell_type": "code",
   "execution_count": 35,
   "metadata": {},
   "outputs": [
    {
     "name": "stderr",
     "output_type": "stream",
     "text": [
      "/home/rithvik/.local/lib/python3.5/site-packages/xgboost/core.py:587: FutureWarning: Series.base is deprecated and will be removed in a future version\n",
      "  if getattr(data, 'base', None) is not None and \\\n"
     ]
    },
    {
     "name": "stdout",
     "output_type": "stream",
     "text": [
      "Accuracy of XGBoost:  0.7272610992440619\n",
      "              precision    recall  f1-score   support\n",
      "\n",
      "           1       0.58      0.63      0.60      7481\n",
      "           2       0.76      0.77      0.77     44440\n",
      "           3       0.71      0.68      0.70     26260\n",
      "\n",
      "    accuracy                           0.73     78181\n",
      "   macro avg       0.68      0.69      0.69     78181\n",
      "weighted avg       0.73      0.73      0.73     78181\n",
      "\n"
     ]
    }
   ],
   "source": [
    "# XGBoost Model\n",
    "\n",
    "# xgboost classifier accepts classes only in the range [0, num_class)\n",
    "y_train_xgb = y_train - 1\n",
    "y_test_xgb = y_test - 1\n",
    "\n",
    "# transforming data into DMatrix for it to be usable by XGBoost\n",
    "D_train = xgb.DMatrix(X_train, label = y_train_xgb)\n",
    "D_test = xgb.DMatrix(X_test, label = y_test_xgb)\n",
    "\n",
    "param = {\n",
    "    'eta': 0.2,\n",
    "    'subsample': 0.7, \n",
    "    'min_child_weight': 5, \n",
    "    'max_depth': 12, \n",
    "    'gamma': 0.4, \n",
    "    'colsample_bytree': 0.7,\n",
    "    'objective': 'multi:softmax',\n",
    "    'num_class': 3\n",
    "}\n",
    "\n",
    "steps = 100\n",
    "\n",
    "# training the model\n",
    "clf = xgb.train(param, D_train, steps)\n",
    "\n",
    "# predicting damage_grade for the test values\n",
    "y_pred = clf.predict(D_test)\n",
    "y_pred += 1\n",
    "\n",
    "# XGBoost Model Accuracy\n",
    "print(\"Accuracy of XGBoost: \", accuracy_score(y_test,y_pred))\n",
    "print(classification_report(y_test, y_pred))"
   ]
  }
 ],
 "metadata": {
  "kernelspec": {
   "display_name": "Python 3",
   "language": "python",
   "name": "python3"
  },
  "language_info": {
   "codemirror_mode": {
    "name": "ipython",
    "version": 3
   },
   "file_extension": ".py",
   "mimetype": "text/x-python",
   "name": "python",
   "nbconvert_exporter": "python",
   "pygments_lexer": "ipython3",
   "version": "3.5.2"
  }
 },
 "nbformat": 4,
 "nbformat_minor": 2
}
