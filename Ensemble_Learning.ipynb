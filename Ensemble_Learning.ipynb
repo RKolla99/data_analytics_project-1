{
 "cells": [
  {
   "cell_type": "code",
   "execution_count": 16,
   "metadata": {},
   "outputs": [
    {
     "ename": "ImportError",
     "evalue": "cannot import name 'knn_classifier'",
     "output_type": "error",
     "traceback": [
      "\u001b[0;31m---------------------------------------------------------------------------\u001b[0m",
      "\u001b[0;31mImportError\u001b[0m                               Traceback (most recent call last)",
      "\u001b[0;32m<ipython-input-16-3ea5224f9402>\u001b[0m in \u001b[0;36m<module>\u001b[0;34m\u001b[0m\n\u001b[1;32m      5\u001b[0m \u001b[0;32mfrom\u001b[0m \u001b[0msklearn\u001b[0m\u001b[0;34m.\u001b[0m\u001b[0mmetrics\u001b[0m \u001b[0;32mimport\u001b[0m \u001b[0mconfusion_matrix\u001b[0m\u001b[0;34m\u001b[0m\u001b[0;34m\u001b[0m\u001b[0m\n\u001b[1;32m      6\u001b[0m \u001b[0;32mfrom\u001b[0m \u001b[0msklearn\u001b[0m\u001b[0;34m.\u001b[0m\u001b[0mensemble\u001b[0m \u001b[0;32mimport\u001b[0m \u001b[0mVotingClassifier\u001b[0m\u001b[0;34m\u001b[0m\u001b[0;34m\u001b[0m\u001b[0m\n\u001b[0;32m----> 7\u001b[0;31m \u001b[0;32mfrom\u001b[0m \u001b[0mfunctions\u001b[0m \u001b[0;32mimport\u001b[0m \u001b[0mknn_classifier\u001b[0m\u001b[0;34m\u001b[0m\u001b[0;34m\u001b[0m\u001b[0m\n\u001b[0m\u001b[1;32m      8\u001b[0m \u001b[0;32mfrom\u001b[0m \u001b[0mfunctions\u001b[0m \u001b[0;32mimport\u001b[0m \u001b[0mrandom_forest_classifier\u001b[0m\u001b[0;34m\u001b[0m\u001b[0;34m\u001b[0m\u001b[0m\n\u001b[1;32m      9\u001b[0m \u001b[0;32mfrom\u001b[0m \u001b[0mfunctions\u001b[0m \u001b[0;32mimport\u001b[0m \u001b[0mxgboost_classifier\u001b[0m\u001b[0;34m\u001b[0m\u001b[0;34m\u001b[0m\u001b[0m\n",
      "\u001b[0;31mImportError\u001b[0m: cannot import name 'knn_classifier'"
     ]
    }
   ],
   "source": [
    "import numpy as np \n",
    "import pandas as pd\n",
    "from sklearn.model_selection import train_test_split\n",
    "from sklearn.metrics import accuracy_score\n",
    "from sklearn.metrics import confusion_matrix\n",
    "from sklearn.ensemble import VotingClassifier\n",
    "from functions import knn_classifier\n",
    "from functions import random_forest_classifier\n",
    "from functions import xgboost_classifier\n",
    "from funcitons import print_confusion_matrix\n",
    "from functions import voting_classifier\n",
    "\n",
    "%matplotlib inline"
   ]
  },
  {
   "cell_type": "code",
   "execution_count": 2,
   "metadata": {},
   "outputs": [],
   "source": [
    "path = './dataset_modified/'\n",
    "\n",
    "train_values = pd.read_csv(path + 'train_values.csv')\n",
    "train_labels = pd.read_csv(path + 'train_labels.csv')\n",
    "test_values = pd.read_csv(path + 'test_values.csv')"
   ]
  },
  {
   "cell_type": "markdown",
   "metadata": {},
   "source": [
    "### Ensemble Learning using kNN Classifier and RandomForest Classifier"
   ]
  },
  {
   "cell_type": "code",
   "execution_count": 3,
   "metadata": {},
   "outputs": [
    {
     "name": "stdout",
     "output_type": "stream",
     "text": [
      "Accuracy of KNeighborsClassifier:  0.7106713907471125\n",
      "Accuracy of RandomForestClassifier:  0.7220296491474911\n",
      "Accuracy of kNN and RandomForest Ensemble:  0.7347053631956614\n"
     ]
    }
   ],
   "source": [
    "# Ensemble learning using kNN Classifier and RandomForest Classifier\n",
    "df_temp = train_values\n",
    "df_temp = df_temp.drop(['building_id','has_secondary_use_agriculture', 'has_secondary_use_hotel',\n",
    "       'has_secondary_use_rental', 'has_secondary_use_institution',\n",
    "       'has_secondary_use_school', 'has_secondary_use_industry',\n",
    "       'has_secondary_use_health_post', 'has_secondary_use_gov_office',\n",
    "       'has_secondary_use_use_police', 'has_secondary_use_other'], axis=1)\n",
    "\n",
    "X_train, X_test, y_train, y_test = train_test_split(\n",
    "                                        df_temp, train_labels['damage_grade'], \n",
    "                                        test_size=0.3, random_state=10\n",
    "                                    )\n",
    "\n",
    "# kNN Classifier\n",
    "model_knn, y_pred_knn = knn_classifier(X_train,y_train,X_test,y_test,n_neighbors=8)\n",
    "\n",
    "# RandomForest Classifier\n",
    "model_rfc, y_pred_rfc = random_forest_classifier(X_train,y_train,X_test,y_test,n_estimators=200)\n",
    "\n",
    "print(\"kNN and RandomForest Models Ensemble Classifier\")\n",
    "# kNN and Random Forest Ensemble Classifier\n",
    "estimators=[\n",
    "            ('knn', model_knn), \n",
    "            ('rfc', model_rfc),\n",
    "        ]\n",
    "voting_type = 'soft'\n",
    "model_vc, y_pred_vc = voting_classifier(X_train,y_train,X_test,y_test,estimators,voting_type)\n"
   ]
  },
  {
   "cell_type": "markdown",
   "metadata": {},
   "source": [
    "### Ensemble Learning using kNN Classifier, RandomForest Classifier and XGBoost Classifier"
   ]
  },
  {
   "cell_type": "code",
   "execution_count": null,
   "metadata": {},
   "outputs": [],
   "source": [
    "# Ensemble learning using kNN Classifier, RandomForest Classifier and XGBoost Classifier\n",
    "df_temp = train_values\n",
    "df_temp = df_temp.drop(['building_id','has_secondary_use_agriculture', 'has_secondary_use_hotel',\n",
    "       'has_secondary_use_rental', 'has_secondary_use_institution',\n",
    "       'has_secondary_use_school', 'has_secondary_use_industry',\n",
    "       'has_secondary_use_health_post', 'has_secondary_use_gov_office',\n",
    "       'has_secondary_use_use_police', 'has_secondary_use_other'], axis=1)\n",
    "\n",
    "X_train, X_test, y_train, y_test = train_test_split(\n",
    "                                        df_temp, train_labels['damage_grade'], \n",
    "                                        test_size=0.3, random_state=10\n",
    "                                    )\n",
    "\n",
    "# kNN Classifier\n",
    "model_knn, y_pred_knn = knn_classifier(X_train,y_train,X_test,y_test,n_neighbors=8)\n",
    "\n",
    "# RandomForest Classifier\n",
    "model_rfc, y_pred_rfc = random_forest_classifier(X_train,y_train,X_test,y_test,n_estimators=200)\n",
    "\n",
    "# XGBoost Classifier\n",
    "param = {\n",
    "        'learning_rate': 0.3,\n",
    "        'subsample': 0.8, \n",
    "        'min_child_weight': 5, \n",
    "        'max_depth': 10, \n",
    "        'gamma': 0.3, \n",
    "        'colsample_bytree': 0.8,\n",
    "        'objective': 'multi:softmax',\n",
    "        'num_class': 3,\n",
    "        'eval_metric': 'merror'\n",
    "    }\n",
    "model_xgb, y_pred_xgb = xgboost_classifier(X_train,y_train,X_test,y_test,params=param)\n",
    "\n",
    "print(\"kNN, RandomForest and XGBoost Models Ensemble Classifier\")\n",
    "# kNN, RandomForest and XGBoost Ensemble Classifier\n",
    "estimators = [\n",
    "            ('knn', model_knn), \n",
    "            ('rfc', model_rfc),\n",
    "            ('xgb', model_xgb)\n",
    "           ]\n",
    "voting_type = 'soft'\n",
    "model_vc, y_pred_vc = voting_classifier(X_train,y_train,X_test,y_test,estimators,voting_type)"
   ]
  },
  {
   "cell_type": "code",
   "execution_count": null,
   "metadata": {},
   "outputs": [],
   "source": []
  }
 ],
 "metadata": {
  "kernelspec": {
   "display_name": "Python 3",
   "language": "python",
   "name": "python3"
  },
  "language_info": {
   "codemirror_mode": {
    "name": "ipython",
    "version": 3
   },
   "file_extension": ".py",
   "mimetype": "text/x-python",
   "name": "python",
   "nbconvert_exporter": "python",
   "pygments_lexer": "ipython3",
   "version": "3.6.8"
  }
 },
 "nbformat": 4,
 "nbformat_minor": 2
}
