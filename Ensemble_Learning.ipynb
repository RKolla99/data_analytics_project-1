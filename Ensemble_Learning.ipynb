{
 "cells": [
  {
   "cell_type": "code",
   "execution_count": 1,
   "metadata": {},
   "outputs": [],
   "source": [
    "import numpy as np \n",
    "import pandas as pd\n",
    "from sklearn.model_selection import train_test_split\n",
    "from sklearn.metrics import accuracy_score\n",
    "from sklearn.metrics import confusion_matrix\n",
    "from sklearn.ensemble import RandomForestClassifier,VotingClassifier\n",
    "from sklearn.neighbors import KNeighborsClassifier\n",
    "from xgboost import XGBClassifier\n",
    "\n",
    "%matplotlib inline"
   ]
  },
  {
   "cell_type": "code",
   "execution_count": 2,
   "metadata": {},
   "outputs": [],
   "source": [
    "train_values = pd.read_csv('./dataset_modified/train_values.csv')\n",
    "train_labels = pd.read_csv('./dataset_modified/train_labels.csv')\n",
    "test_values = pd.read_csv('./dataset_modified/test_values.csv')"
   ]
  },
  {
   "cell_type": "markdown",
   "metadata": {},
   "source": [
    "### Ensemble Learning using kNN Classifier and RandomForest Classifier"
   ]
  },
  {
   "cell_type": "code",
   "execution_count": 3,
   "metadata": {},
   "outputs": [
    {
     "name": "stdout",
     "output_type": "stream",
     "text": [
      "Accuracy of KNeighborsClassifier:  0.7106713907471125\n",
      "Accuracy of RandomForestClassifier:  0.7220296491474911\n",
      "Accuracy of kNN and RandomForest Ensemble:  0.7347053631956614\n"
     ]
    }
   ],
   "source": [
    "# Ensemble learning using kNN Classifier and RandomForest Classifier\n",
    "df_temp = train_values\n",
    "df_temp = df_temp.drop(['building_id','has_secondary_use_agriculture', 'has_secondary_use_hotel',\n",
    "       'has_secondary_use_rental', 'has_secondary_use_institution',\n",
    "       'has_secondary_use_school', 'has_secondary_use_industry',\n",
    "       'has_secondary_use_health_post', 'has_secondary_use_gov_office',\n",
    "       'has_secondary_use_use_police', 'has_secondary_use_other'], axis=1)\n",
    "\n",
    "X_train, X_test, y_train, y_test = train_test_split(\n",
    "                                        df_temp, train_labels['damage_grade'], \n",
    "                                        test_size=0.3, random_state=10\n",
    "                                    )\n",
    "\n",
    "# kNN Classifier\n",
    "model_knn = KNeighborsClassifier(n_neighbors=8)\n",
    "model_knn.fit(X_train, y_train)\n",
    "y_pred_knn = model_knn.predict(X_test)\n",
    "print(\"Accuracy of KNeighborsClassifier: \", accuracy_score(y_test,y_pred_knn))\n",
    "\n",
    "# RandomForest Classifier\n",
    "model_rfc=RandomForestClassifier(n_estimators=200)\n",
    "model_rfc.fit(X_train, y_train)\n",
    "y_pred_rfc = model_rfc.predict(X_test)\n",
    "print(\"Accuracy of RandomForestClassifier: \", accuracy_score(y_test,y_pred_rfc))\n",
    "\n",
    "# kNN and Random Forest Ensemble Classifier\n",
    "model_knn_rfc = VotingClassifier(\n",
    "        estimators=[\n",
    "            ('knn', model_knn), \n",
    "            ('rfc', model_rfc),\n",
    "        ], \n",
    "        voting='soft'\n",
    "    )\n",
    "model_knn_rfc.fit(X_train, y_train)\n",
    "y_pred_vc = model_knn_rfc.predict(X_test)\n",
    "print(\"Accuracy of kNN and RandomForest Ensemble: \", accuracy_score(y_test,y_pred_vc))"
   ]
  },
  {
   "cell_type": "code",
   "execution_count": null,
   "metadata": {},
   "outputs": [],
   "source": []
  }
 ],
 "metadata": {
  "kernelspec": {
   "display_name": "Python 3",
   "language": "python",
   "name": "python3"
  },
  "language_info": {
   "codemirror_mode": {
    "name": "ipython",
    "version": 3
   },
   "file_extension": ".py",
   "mimetype": "text/x-python",
   "name": "python",
   "nbconvert_exporter": "python",
   "pygments_lexer": "ipython3",
   "version": "3.6.8"
  }
 },
 "nbformat": 4,
 "nbformat_minor": 2
}
